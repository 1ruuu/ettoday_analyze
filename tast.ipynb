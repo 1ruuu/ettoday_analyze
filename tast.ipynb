{
 "cells": [
  {
   "cell_type": "code",
   "execution_count": null,
   "metadata": {},
   "outputs": [],
   "source": [
    "from crawler import settings\n",
    "\n",
    "print(settings.FILE_PATH)"
   ]
  },
  {
   "cell_type": "code",
   "execution_count": null,
   "metadata": {},
   "outputs": [],
   "source": [
    "from crawler.engine import Tools\n",
    "tool = Tools()\n",
    "\n",
    "tool.get_news_info(category='旅遊', start_date='2024-05-20', end_date='2024-05-21', get_article=True)\n",
    "# tool.save_to_database()"
   ]
  },
  {
   "cell_type": "code",
   "execution_count": null,
   "metadata": {},
   "outputs": [],
   "source": [
    "from ETtoday.engine import Tools\n",
    "tool = Tools()\n",
    "tool.save_to_database(file='ettoday_analyze\\crawler\\src\\news_data.csv')"
   ]
  }
 ],
 "metadata": {
  "kernelspec": {
   "display_name": "base",
   "language": "python",
   "name": "python3"
  },
  "language_info": {
   "codemirror_mode": {
    "name": "ipython",
    "version": 3
   },
   "file_extension": ".py",
   "mimetype": "text/x-python",
   "name": "python",
   "nbconvert_exporter": "python",
   "pygments_lexer": "ipython3",
   "version": "3.10.9"
  }
 },
 "nbformat": 4,
 "nbformat_minor": 2
}
